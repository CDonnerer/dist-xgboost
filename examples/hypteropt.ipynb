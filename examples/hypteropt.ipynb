{
 "cells": [
  {
   "cell_type": "code",
   "execution_count": 36,
   "id": "2ac1a2f1-0e1e-4f13-9c5a-873dd89a5aeb",
   "metadata": {},
   "outputs": [],
   "source": [
    "import time\n",
    "\n",
    "from matplotlib import pyplot as plt\n",
    "import numpy as np\n",
    "import pandas as pd\n",
    "from scipy import stats\n",
    "from scipy.special import expit\n",
    "\n",
    "from sklearn.datasets import load_boston\n",
    "from sklearn.model_selection import train_test_split\n",
    "from sklearn.pipeline import Pipeline\n",
    "from sklearn.base import BaseEstimator\n",
    "from sklearn.model_selection import GridSearchCV\n",
    "\n",
    "from xgboost_distribution import XGBDistribution"
   ]
  },
  {
   "cell_type": "code",
   "execution_count": 37,
   "id": "3ca41383-7b9f-4f19-a5fa-47fee08096b3",
   "metadata": {},
   "outputs": [],
   "source": [
    "class XGBDistributionMean(XGBDistribution):        \n",
    "    def predict(self, *args, **kwargs):\n",
    "        preds = super().predict(*args, **kwargs)\n",
    "        return preds.loc\n",
    "    \n",
    "    def predict_distribution(self, *args, **kwargs):\n",
    "        return super().predict(*args, **kwargs)\n",
    "    "
   ]
  },
  {
   "cell_type": "code",
   "execution_count": 46,
   "id": "8d666805-e386-4643-a9e2-8a2df6796b0e",
   "metadata": {},
   "outputs": [
    {
     "data": {
      "text/plain": [
       "XGBDistributionMean(base_score=0.0, booster='gbtree', colsample_bylevel=1,\n",
       "                    colsample_bynode=1, colsample_bytree=1,\n",
       "                    distribution='normal', enable_categorical=False, gamma=0,\n",
       "                    gpu_id=-1, importance_type=None, interaction_constraints='',\n",
       "                    learning_rate=0.300000012, max_delta_step=0, max_depth=6,\n",
       "                    min_child_weight=1, missing=nan, monotone_constraints='()',\n",
       "                    n_estimators=20, n_jobs=4, num_parallel_tree=1,\n",
       "                    objective='distribution:normal', predictor='auto',\n",
       "                    random_state=0, reg_alpha=0, reg_lambda=1,\n",
       "                    scale_pos_weight=None, subsample=1, tree_method='exact',\n",
       "                    validate_parameters=1, verbosity=None)"
      ]
     },
     "execution_count": 46,
     "metadata": {},
     "output_type": "execute_result"
    }
   ],
   "source": [
    "xgb_cv.best_estimator_"
   ]
  },
  {
   "cell_type": "code",
   "execution_count": 38,
   "id": "9fb17890-f259-4b0f-82ad-f32579fa9af9",
   "metadata": {},
   "outputs": [],
   "source": [
    "data = load_boston()\n",
    "\n",
    "X, y = data.data, data.target\n"
   ]
  },
  {
   "cell_type": "code",
   "execution_count": 47,
   "id": "2b85360b-9451-4362-ab9d-a30bbe0c080e",
   "metadata": {},
   "outputs": [
    {
     "name": "stdout",
     "output_type": "stream",
     "text": [
      "Best CV score: -4.927170754641678\n",
      "Best params: {'max_depth': 3, 'n_estimators': 40}\n"
     ]
    }
   ],
   "source": [
    "param_grid = {\n",
    "    \"n_estimators\": [10, 20, 40],\n",
    "    \"max_depth\": [3, 6]\n",
    "}\n",
    "\n",
    "xgb_cv = GridSearchCV(\n",
    "    XGBDistributionMean(), \n",
    "    param_grid, \n",
    "    cv=3, \n",
    "    scoring=\"neg_root_mean_squared_error\"\n",
    ")\n",
    "\n",
    "xgb_cv.fit(X, y)\n",
    "print(f'Best CV score: {xgb_cv.best_score_}')\n",
    "print(f'Best params: {xgb_cv.best_params_}')"
   ]
  },
  {
   "cell_type": "code",
   "execution_count": null,
   "id": "4d98a1fd-8ca1-4e22-bda9-45b594cc89ee",
   "metadata": {},
   "outputs": [],
   "source": []
  },
  {
   "cell_type": "code",
   "execution_count": 33,
   "id": "edacc28c-f596-43c8-830c-e06bd31f5686",
   "metadata": {},
   "outputs": [
    {
     "name": "stdout",
     "output_type": "stream",
     "text": [
      "Best CV score: -1.682798449198404\n",
      "Best params: {'xgbd__n_estimators': 20}\n",
      "Score for training set performance: -0.29497127532959055\n",
      "Score for testing set performance: -1.8188091278076186\n"
     ]
    }
   ],
   "source": [
    "\n",
    "steps = [\n",
    "    #('Scale', StandardScaler()), \n",
    "    ('xgbd', XGBDistributionMean())\n",
    "]\n",
    "\n",
    "pipe = Pipeline(steps)\n",
    "\n",
    "\n",
    "\n",
    "# Initialize the CV object\n",
    "lr_cv = GridSearchCV(pipe, param_grid, cv=3, refit=True, scoring=\"neg_median_absolute_error\")\n",
    "\n",
    "# Train the pipeline\n",
    "lr_cv.fit(X_train, y_train)\n",
    "\n",
    "# Print the best score and best_params\n",
    "print(f'Best CV score: {lr_cv.best_score_}')\n",
    "print(f'Best params: {lr_cv.best_params_}')\n",
    "#Performance on the training and testing set\n",
    "print(f'Score for training set performance: {lr_cv.score(X_train, y_train)}')\n",
    "print(f'Score for testing set performance: {lr_cv.score(X_test, y_test)}')"
   ]
  },
  {
   "cell_type": "code",
   "execution_count": 18,
   "id": "82ffe8de-4d8a-4319-b676-d661e378eb49",
   "metadata": {},
   "outputs": [],
   "source": [
    "from sklearn.metrics import SCORERS"
   ]
  },
  {
   "cell_type": "code",
   "execution_count": 19,
   "id": "d40330ea-2ad8-4a3b-a59d-1e2bb08bc468",
   "metadata": {},
   "outputs": [
    {
     "data": {
      "text/plain": [
       "dict_keys(['explained_variance', 'r2', 'max_error', 'neg_median_absolute_error', 'neg_mean_absolute_error', 'neg_mean_absolute_percentage_error', 'neg_mean_squared_error', 'neg_mean_squared_log_error', 'neg_root_mean_squared_error', 'neg_mean_poisson_deviance', 'neg_mean_gamma_deviance', 'accuracy', 'top_k_accuracy', 'roc_auc', 'roc_auc_ovr', 'roc_auc_ovo', 'roc_auc_ovr_weighted', 'roc_auc_ovo_weighted', 'balanced_accuracy', 'average_precision', 'neg_log_loss', 'neg_brier_score', 'adjusted_rand_score', 'rand_score', 'homogeneity_score', 'completeness_score', 'v_measure_score', 'mutual_info_score', 'adjusted_mutual_info_score', 'normalized_mutual_info_score', 'fowlkes_mallows_score', 'precision', 'precision_macro', 'precision_micro', 'precision_samples', 'precision_weighted', 'recall', 'recall_macro', 'recall_micro', 'recall_samples', 'recall_weighted', 'f1', 'f1_macro', 'f1_micro', 'f1_samples', 'f1_weighted', 'jaccard', 'jaccard_macro', 'jaccard_micro', 'jaccard_samples', 'jaccard_weighted'])"
      ]
     },
     "execution_count": 19,
     "metadata": {},
     "output_type": "execute_result"
    }
   ],
   "source": [
    "SCORERS.keys()"
   ]
  },
  {
   "cell_type": "code",
   "execution_count": null,
   "id": "086feff2-39c9-4bb4-960e-9e3a2709c76c",
   "metadata": {},
   "outputs": [],
   "source": []
  }
 ],
 "metadata": {
  "kernelspec": {
   "display_name": "Python 3",
   "language": "python",
   "name": "python3"
  },
  "language_info": {
   "codemirror_mode": {
    "name": "ipython",
    "version": 3
   },
   "file_extension": ".py",
   "mimetype": "text/x-python",
   "name": "python",
   "nbconvert_exporter": "python",
   "pygments_lexer": "ipython3",
   "version": "3.9.4"
  }
 },
 "nbformat": 4,
 "nbformat_minor": 5
}
